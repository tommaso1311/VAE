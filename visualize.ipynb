{
 "cells": [
  {
   "cell_type": "code",
   "execution_count": 1,
   "metadata": {},
   "outputs": [
    {
     "name": "stdout",
     "output_type": "stream",
     "text": [
      "INFO:tensorflow:Restoring parameters from ./model/model.ckpt-3001\n"
     ]
    }
   ],
   "source": [
    "from __future__ import print_function\n",
    "from ipywidgets import interact, interactive, fixed, interact_manual\n",
    "import ipywidgets as widgets\n",
    "from header import *\n",
    "\n",
    "sampled_z = tf.placeholder(dtype=tf.float32, shape=[1, latent_dim])\n",
    "decoded = decoder(sampled_z, keep_prob)\n",
    "\n",
    "sess = tf.Session()\n",
    "\n",
    "sess.run(tf.global_variables_initializer())\n",
    "saver = tf.train.Saver()\n",
    "saver.restore(sess, tf.train.latest_checkpoint(\"./model/\"))\n",
    "\n",
    "nb = (-2, 2, 0.01)\n",
    "\n",
    "def visualize(a=nb, b=nb, c=nb, d=nb, e=nb, f=nb, g=nb, h=nb, i=nb, l=nb):\n",
    "    latent_vector = np.array([a, b, c, d, e, f, g, h, i, l]).reshape((1, 10))\n",
    "    img = sess.run(decoded, feed_dict={sampled_z: latent_vector, keep_prob: 1.0})\n",
    "    img = np.reshape(img, [28, 28])\n",
    "    plt.imshow(img, cmap='gray')\n",
    "    plt.axis(\"off\")"
   ]
  },
  {
   "cell_type": "code",
   "execution_count": 2,
   "metadata": {},
   "outputs": [
    {
     "data": {
      "application/vnd.jupyter.widget-view+json": {
       "model_id": "d7ca7d08549b4591940d773f164eeb10",
       "version_major": 2,
       "version_minor": 0
      },
      "text/plain": [
       "interactive(children=(FloatSlider(value=0.0, description='a', max=10.0, min=-10.0, step=0.01), FloatSlider(val…"
      ]
     },
     "metadata": {},
     "output_type": "display_data"
    },
    {
     "data": {
      "text/plain": [
       "<function __main__.visualize(a=(-10, 10, 0.01), b=(-10, 10, 0.01), c=(-10, 10, 0.01), d=(-10, 10, 0.01), e=(-10, 10, 0.01), f=(-10, 10, 0.01), g=(-10, 10, 0.01), h=(-10, 10, 0.01), i=(-10, 10, 0.01), l=(-10, 10, 0.01))>"
      ]
     },
     "execution_count": 2,
     "metadata": {},
     "output_type": "execute_result"
    }
   ],
   "source": [
    "interact(visualize)"
   ]
  },
  {
   "cell_type": "code",
   "execution_count": null,
   "metadata": {},
   "outputs": [],
   "source": []
  }
 ],
 "metadata": {
  "kernelspec": {
   "display_name": "Python 3",
   "language": "python",
   "name": "python3"
  },
  "language_info": {
   "codemirror_mode": {
    "name": "ipython",
    "version": 3
   },
   "file_extension": ".py",
   "mimetype": "text/x-python",
   "name": "python",
   "nbconvert_exporter": "python",
   "pygments_lexer": "ipython3",
   "version": "3.6.5"
  }
 },
 "nbformat": 4,
 "nbformat_minor": 2
}
